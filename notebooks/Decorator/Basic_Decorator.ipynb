{
 "cells": [
  {
   "cell_type": "code",
   "execution_count": 1,
   "id": "f819b57a-c0b4-41dd-a3cd-d59db8f09bf6",
   "metadata": {},
   "outputs": [],
   "source": [
    "# Created at 24-03-2025"
   ]
  },
  {
   "cell_type": "code",
   "execution_count": 2,
   "id": "337f4006-2944-43fe-9cc6-22c9792a142e",
   "metadata": {},
   "outputs": [],
   "source": [
    "# Basic Decorator"
   ]
  },
  {
   "cell_type": "code",
   "execution_count": 4,
   "id": "721836e8-6112-47a4-9e8a-13516524e748",
   "metadata": {},
   "outputs": [],
   "source": [
    "def decorator(func):\n",
    "    def wrapper():\n",
    "        print(\"Before function call\")\n",
    "        func()\n",
    "        print(\"After function call\")\n",
    "    return wrapper"
   ]
  },
  {
   "cell_type": "code",
   "execution_count": 5,
   "id": "cd3911a7-7f0f-44c0-99dd-53852adb9d8e",
   "metadata": {},
   "outputs": [
    {
     "name": "stdout",
     "output_type": "stream",
     "text": [
      "Before function call\n",
      "Hello, World!\n",
      "After function call\n"
     ]
    }
   ],
   "source": [
    "@decorator\n",
    "def say_hello():\n",
    "    print(\"Hello, World!\")\n",
    "\n",
    "say_hello()"
   ]
  },
  {
   "cell_type": "code",
   "execution_count": null,
   "id": "02026822-1154-4908-8c5c-acf46ae00fdf",
   "metadata": {},
   "outputs": [],
   "source": []
  }
 ],
 "metadata": {
  "kernelspec": {
   "display_name": "Python 3 (ipykernel)",
   "language": "python",
   "name": "python3"
  },
  "language_info": {
   "codemirror_mode": {
    "name": "ipython",
    "version": 3
   },
   "file_extension": ".py",
   "mimetype": "text/x-python",
   "name": "python",
   "nbconvert_exporter": "python",
   "pygments_lexer": "ipython3",
   "version": "3.12.7"
  }
 },
 "nbformat": 4,
 "nbformat_minor": 5
}
