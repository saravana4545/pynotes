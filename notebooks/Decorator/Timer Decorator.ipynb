{
 "cells": [
  {
   "cell_type": "code",
   "execution_count": 1,
   "id": "79328a9e-35d3-4634-bda5-260b72a713e2",
   "metadata": {},
   "outputs": [],
   "source": [
    "# Created at 24-03-2025"
   ]
  },
  {
   "cell_type": "code",
   "execution_count": 2,
   "id": "a17c72cb-8ec3-4e9a-9e14-41700a9db89e",
   "metadata": {},
   "outputs": [],
   "source": [
    "# Timer Decorator"
   ]
  },
  {
   "cell_type": "code",
   "execution_count": 8,
   "id": "e59ba7c4-d899-4ede-b5e5-b76b688d61f2",
   "metadata": {},
   "outputs": [],
   "source": [
    "import time"
   ]
  },
  {
   "cell_type": "code",
   "execution_count": 9,
   "id": "72cd92b7-24a1-4b53-9d89-9a869906e035",
   "metadata": {},
   "outputs": [],
   "source": [
    "def timer(func):\n",
    "    def wrapper(*args, **kwargs):\n",
    "        start = time.time()\n",
    "        result = func(*args, **kwargs)\n",
    "        end = time.time()\n",
    "        print(f\"Execution time: {end - start:.4f} seconds\") # .4f - It prints with four decimal places.\n",
    "        return result\n",
    "    return wrapper"
   ]
  },
  {
   "cell_type": "code",
   "execution_count": 10,
   "id": "8ad7f521-2ef0-45a2-b539-7e246388f389",
   "metadata": {},
   "outputs": [],
   "source": [
    "@timer\n",
    "def slow_function():\n",
    "    time.sleep(1)\n",
    "    print(\"Done\")"
   ]
  },
  {
   "cell_type": "code",
   "execution_count": 11,
   "id": "84593458-f0f1-4f2f-8031-753668846b8d",
   "metadata": {},
   "outputs": [
    {
     "name": "stdout",
     "output_type": "stream",
     "text": [
      "Done\n",
      "Execution time: 1.0002 seconds\n"
     ]
    }
   ],
   "source": [
    "slow_function()"
   ]
  },
  {
   "cell_type": "code",
   "execution_count": null,
   "id": "a67f0040-3e86-4ff5-a8ea-e4e0a1f3eb0b",
   "metadata": {},
   "outputs": [],
   "source": []
  }
 ],
 "metadata": {
  "kernelspec": {
   "display_name": "Python 3 (ipykernel)",
   "language": "python",
   "name": "python3"
  },
  "language_info": {
   "codemirror_mode": {
    "name": "ipython",
    "version": 3
   },
   "file_extension": ".py",
   "mimetype": "text/x-python",
   "name": "python",
   "nbconvert_exporter": "python",
   "pygments_lexer": "ipython3",
   "version": "3.12.7"
  }
 },
 "nbformat": 4,
 "nbformat_minor": 5
}
