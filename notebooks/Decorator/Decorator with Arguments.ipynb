{
 "cells": [
  {
   "cell_type": "code",
   "execution_count": 1,
   "id": "f2023900-44d2-4673-b89b-107427abd1d7",
   "metadata": {},
   "outputs": [],
   "source": [
    "# Created at 24-03-2025"
   ]
  },
  {
   "cell_type": "code",
   "execution_count": 2,
   "id": "a8ba829f-ce50-4d8b-95de-91ebad664d21",
   "metadata": {},
   "outputs": [],
   "source": [
    "# Decorator with Arguments"
   ]
  },
  {
   "cell_type": "code",
   "execution_count": 7,
   "id": "7b9b8f82-a36c-4b0b-aff6-37037831bc55",
   "metadata": {},
   "outputs": [],
   "source": [
    "# Why Use *args and **kwargs?\n",
    "\n",
    "    # The decorator should work with any function, regardless of how many arguments it takes.\n",
    "\n",
    "    # Without *args, **kwargs, the decorator would only work for functions with a fixed number of arguments."
   ]
  },
  {
   "cell_type": "code",
   "execution_count": 5,
   "id": "749387af-f0ef-4424-a832-9a561acc76b7",
   "metadata": {},
   "outputs": [],
   "source": [
    "def repeat(n):\n",
    "    def decorator(func):\n",
    "        def wrapper(*args, **kwargs):\n",
    "            for _ in range(n):\n",
    "                func(*args, **kwargs)\n",
    "        return wrapper\n",
    "    return decorator"
   ]
  },
  {
   "cell_type": "code",
   "execution_count": 6,
   "id": "0625f464-02bb-4b97-af61-5df471049e50",
   "metadata": {},
   "outputs": [
    {
     "name": "stdout",
     "output_type": "stream",
     "text": [
      "Hi!\n",
      "Hi!\n",
      "Hi!\n"
     ]
    }
   ],
   "source": [
    "@repeat(3)\n",
    "def greet():\n",
    "    print(\"Hi!\")\n",
    "\n",
    "greet()"
   ]
  },
  {
   "cell_type": "code",
   "execution_count": null,
   "id": "7fcb269f-f007-4758-8aa9-06dd9fb2d74d",
   "metadata": {},
   "outputs": [],
   "source": []
  }
 ],
 "metadata": {
  "kernelspec": {
   "display_name": "Python 3 (ipykernel)",
   "language": "python",
   "name": "python3"
  },
  "language_info": {
   "codemirror_mode": {
    "name": "ipython",
    "version": 3
   },
   "file_extension": ".py",
   "mimetype": "text/x-python",
   "name": "python",
   "nbconvert_exporter": "python",
   "pygments_lexer": "ipython3",
   "version": "3.12.7"
  }
 },
 "nbformat": 4,
 "nbformat_minor": 5
}
