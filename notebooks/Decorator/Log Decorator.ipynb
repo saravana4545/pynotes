{
 "cells": [
  {
   "cell_type": "code",
   "execution_count": 1,
   "id": "5b593274-64ff-454e-b74f-de6848f63f10",
   "metadata": {},
   "outputs": [],
   "source": [
    "# Created at 24-03-2025"
   ]
  },
  {
   "cell_type": "code",
   "execution_count": 2,
   "id": "18ee99e6-fbbc-481b-b231-166c89bfacea",
   "metadata": {},
   "outputs": [],
   "source": [
    "# Logging Decorator"
   ]
  },
  {
   "cell_type": "code",
   "execution_count": 4,
   "id": "ee29b801-df90-493f-aca5-8689cc563357",
   "metadata": {},
   "outputs": [],
   "source": [
    "def log_function_call(func):\n",
    "    def wrapper(*args, **kwargs):\n",
    "        print(f\"Calling {func.__name__} with arguments {args} {kwargs}\")\n",
    "        return func(*args, **kwargs)\n",
    "    return wrapper"
   ]
  },
  {
   "cell_type": "code",
   "execution_count": 10,
   "id": "e0b44ac0-7047-49b1-874b-f3b2dd35afe1",
   "metadata": {},
   "outputs": [
    {
     "name": "stdout",
     "output_type": "stream",
     "text": [
      "Calling add with arguments (5, 3) {'num': 4}\n",
      "12\n"
     ]
    }
   ],
   "source": [
    "@log_function_call\n",
    "def add(a, b, num):\n",
    "    return a + b + num\n",
    "\n",
    "print(add(5, 3,num=4))"
   ]
  },
  {
   "cell_type": "code",
   "execution_count": null,
   "id": "e3638421-810c-4cfb-b500-71280346072a",
   "metadata": {},
   "outputs": [],
   "source": []
  }
 ],
 "metadata": {
  "kernelspec": {
   "display_name": "Python 3 (ipykernel)",
   "language": "python",
   "name": "python3"
  },
  "language_info": {
   "codemirror_mode": {
    "name": "ipython",
    "version": 3
   },
   "file_extension": ".py",
   "mimetype": "text/x-python",
   "name": "python",
   "nbconvert_exporter": "python",
   "pygments_lexer": "ipython3",
   "version": "3.12.7"
  }
 },
 "nbformat": 4,
 "nbformat_minor": 5
}
