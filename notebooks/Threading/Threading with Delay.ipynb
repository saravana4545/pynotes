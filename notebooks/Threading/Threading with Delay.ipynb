{
 "cells": [
  {
   "cell_type": "code",
   "execution_count": 1,
   "id": "4f11c76e-8c33-4eb4-8c6e-74548be00907",
   "metadata": {},
   "outputs": [],
   "source": [
    "# Created at 25-03-2025"
   ]
  },
  {
   "cell_type": "code",
   "execution_count": 2,
   "id": "49f24992-584d-47a9-9150-6c00b6dd0bc0",
   "metadata": {},
   "outputs": [],
   "source": [
    "# Threading with Delay"
   ]
  },
  {
   "cell_type": "code",
   "execution_count": 3,
   "id": "918eeaff-0d58-44b1-93cf-c171720ba715",
   "metadata": {},
   "outputs": [
    {
     "name": "stdout",
     "output_type": "stream",
     "text": [
      "Hello, after delay!\n"
     ]
    }
   ],
   "source": [
    "import threading\n",
    "import time\n",
    "\n",
    "def delayed_print(msg):\n",
    "    time.sleep(2)\n",
    "    print(msg)\n",
    "\n",
    "t = threading.Thread(target=delayed_print, args=(\"Hello, after delay!\",))\n",
    "t.start()"
   ]
  },
  {
   "cell_type": "code",
   "execution_count": null,
   "id": "0e52535b-1fa5-4d14-b9be-181d8fedf362",
   "metadata": {},
   "outputs": [],
   "source": []
  }
 ],
 "metadata": {
  "kernelspec": {
   "display_name": "Python 3 (ipykernel)",
   "language": "python",
   "name": "python3"
  },
  "language_info": {
   "codemirror_mode": {
    "name": "ipython",
    "version": 3
   },
   "file_extension": ".py",
   "mimetype": "text/x-python",
   "name": "python",
   "nbconvert_exporter": "python",
   "pygments_lexer": "ipython3",
   "version": "3.12.7"
  }
 },
 "nbformat": 4,
 "nbformat_minor": 5
}
