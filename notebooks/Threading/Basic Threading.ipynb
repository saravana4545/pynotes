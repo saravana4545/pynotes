{
 "cells": [
  {
   "cell_type": "code",
   "execution_count": 1,
   "id": "a5f48cce-fc0d-4211-b68a-7ad8cef3586b",
   "metadata": {},
   "outputs": [],
   "source": [
    "# created 25-03-2025"
   ]
  },
  {
   "cell_type": "code",
   "execution_count": 2,
   "id": "7059ebbc-2ac6-458b-924a-d2cfae1b8932",
   "metadata": {},
   "outputs": [],
   "source": [
    "# Threading & Multiprocessing"
   ]
  },
  {
   "cell_type": "code",
   "execution_count": 6,
   "id": "9cc73a68-1701-4c6b-bfc3-9a8fffaa8058",
   "metadata": {},
   "outputs": [],
   "source": [
    "import threading"
   ]
  },
  {
   "cell_type": "code",
   "execution_count": 7,
   "id": "8d37366a-961b-4291-b994-2d5dd8bbdaaa",
   "metadata": {},
   "outputs": [],
   "source": [
    "def print_numbers():\n",
    "    for i in range(5):\n",
    "        print(i)"
   ]
  },
  {
   "cell_type": "code",
   "execution_count": 8,
   "id": "0a138c78-851e-45dc-b7fa-8b83aba5e93d",
   "metadata": {},
   "outputs": [
    {
     "name": "stdout",
     "output_type": "stream",
     "text": [
      "0\n",
      "1\n",
      "2\n",
      "3\n",
      "4\n"
     ]
    }
   ],
   "source": [
    "t = threading.Thread(target=print_numbers)\n",
    "t.start()\n",
    "t.join()"
   ]
  },
  {
   "cell_type": "code",
   "execution_count": null,
   "id": "a269caed-3f5e-40e4-81f3-3b191d4b2d74",
   "metadata": {},
   "outputs": [],
   "source": []
  }
 ],
 "metadata": {
  "kernelspec": {
   "display_name": "Python 3 (ipykernel)",
   "language": "python",
   "name": "python3"
  },
  "language_info": {
   "codemirror_mode": {
    "name": "ipython",
    "version": 3
   },
   "file_extension": ".py",
   "mimetype": "text/x-python",
   "name": "python",
   "nbconvert_exporter": "python",
   "pygments_lexer": "ipython3",
   "version": "3.12.7"
  }
 },
 "nbformat": 4,
 "nbformat_minor": 5
}
