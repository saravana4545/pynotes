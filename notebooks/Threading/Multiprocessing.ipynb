{
 "cells": [
  {
   "cell_type": "code",
   "execution_count": 1,
   "id": "45eec873-0aba-4259-83ce-6686dc863c3b",
   "metadata": {},
   "outputs": [],
   "source": [
    "# Created at 25-03-2025"
   ]
  },
  {
   "cell_type": "code",
   "execution_count": 2,
   "id": "90575990-2a24-43b9-b16d-57c0d808182e",
   "metadata": {},
   "outputs": [],
   "source": [
    "# Using multiprocessing to Run Functions in Parallel"
   ]
  },
  {
   "cell_type": "code",
   "execution_count": 6,
   "id": "3ede74bf-f679-4312-a4aa-1f673c3d4602",
   "metadata": {},
   "outputs": [],
   "source": [
    "import multiprocessing\n",
    "import time"
   ]
  },
  {
   "cell_type": "code",
   "execution_count": 7,
   "id": "15d4f20d-480d-499c-9a1a-c9bd00f9cf90",
   "metadata": {},
   "outputs": [],
   "source": [
    "def worker(n):\n",
    "    print(f\"Worker {n} started\")\n",
    "    time.sleep(2)\n",
    "    print(f\"Worker {n} finished\")"
   ]
  },
  {
   "cell_type": "code",
   "execution_count": 8,
   "id": "404c1568-d274-4e23-a556-9e52e8b123df",
   "metadata": {},
   "outputs": [
    {
     "name": "stdout",
     "output_type": "stream",
     "text": [
      "Worker 1 started\n",
      "Worker 2 started\n",
      "Worker 3 started\n",
      "Worker 0 started\n",
      "Worker 1 finished\n",
      "Worker 2 finished\n",
      "Worker 3 finished\n",
      "Worker 0 finished\n",
      "All workers completed.\n"
     ]
    }
   ],
   "source": [
    "if __name__ == \"__main__\":\n",
    "    processes = []\n",
    "    for i in range(4):\n",
    "        p = multiprocessing.Process(target=worker, args=(i,))\n",
    "        processes.append(p)\n",
    "        p.start()\n",
    "    for p in processes:\n",
    "        p.join()\n",
    "\n",
    "    print(\"All workers completed.\")"
   ]
  }
 ],
 "metadata": {
  "kernelspec": {
   "display_name": "Python 3 (ipykernel)",
   "language": "python",
   "name": "python3"
  },
  "language_info": {
   "codemirror_mode": {
    "name": "ipython",
    "version": 3
   },
   "file_extension": ".py",
   "mimetype": "text/x-python",
   "name": "python",
   "nbconvert_exporter": "python",
   "pygments_lexer": "ipython3",
   "version": "3.12.7"
  }
 },
 "nbformat": 4,
 "nbformat_minor": 5
}
