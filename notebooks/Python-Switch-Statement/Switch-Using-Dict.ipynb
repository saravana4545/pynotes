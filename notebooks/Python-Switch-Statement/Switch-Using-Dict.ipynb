{
 "cells": [
  {
   "cell_type": "code",
   "execution_count": 1,
   "id": "b4b662a9-7fb6-4887-8870-af4b540a6bf3",
   "metadata": {},
   "outputs": [],
   "source": [
    "# Created at 30-01-2025"
   ]
  },
  {
   "cell_type": "code",
   "execution_count": 2,
   "id": "284502f9-9948-47e7-a89a-c2edb2ed32fe",
   "metadata": {},
   "outputs": [],
   "source": [
    "# https://www.scientecheasy.com/2022/11/switch-statement-in-python.html/"
   ]
  },
  {
   "cell_type": "code",
   "execution_count": 3,
   "id": "4647a208-ab27-4a7e-a007-dd48fca2b6d8",
   "metadata": {},
   "outputs": [],
   "source": [
    "# Switch Using Dictionary format"
   ]
  },
  {
   "cell_type": "code",
   "execution_count": 4,
   "id": "ab1cedb1-5ddc-4c9d-acfd-b4fea6168956",
   "metadata": {},
   "outputs": [],
   "source": [
    "days_dict = {\n",
    "    1: \"Monday\",\n",
    "    2: \"Tuesday\",\n",
    "    3: \"Wednesday\",\n",
    "    4: \"Thursday\",\n",
    "    5: \"Friday\",\n",
    "    6: \"Saturday\",\n",
    "    7: \"Sunday\"\n",
    "}"
   ]
  },
  {
   "cell_type": "code",
   "execution_count": 5,
   "id": "928b0f75-451c-4585-8983-ee070bf8ca2c",
   "metadata": {},
   "outputs": [],
   "source": [
    "def get_day(day):\n",
    "    return days_dict.get(day, \"Invalid day\")"
   ]
  },
  {
   "cell_type": "code",
   "execution_count": 6,
   "id": "6c467443-0155-4858-ac07-8cce33f812fa",
   "metadata": {},
   "outputs": [
    {
     "name": "stdout",
     "output_type": "stream",
     "text": [
      "Friday\n"
     ]
    }
   ],
   "source": [
    "print(get_day(5))"
   ]
  },
  {
   "cell_type": "code",
   "execution_count": 7,
   "id": "e8f5a0d8-178e-4241-b6c7-d10e4221027e",
   "metadata": {},
   "outputs": [
    {
     "name": "stdout",
     "output_type": "stream",
     "text": [
      "Invalid day\n"
     ]
    }
   ],
   "source": [
    "print(get_day(10))"
   ]
  },
  {
   "cell_type": "code",
   "execution_count": null,
   "id": "b4384f69-1bd4-4a60-b5f6-f31fbda3ce7c",
   "metadata": {},
   "outputs": [],
   "source": []
  }
 ],
 "metadata": {
  "kernelspec": {
   "display_name": "Python 3 (ipykernel)",
   "language": "python",
   "name": "python3"
  },
  "language_info": {
   "codemirror_mode": {
    "name": "ipython",
    "version": 3
   },
   "file_extension": ".py",
   "mimetype": "text/x-python",
   "name": "python",
   "nbconvert_exporter": "python",
   "pygments_lexer": "ipython3",
   "version": "3.12.7"
  }
 },
 "nbformat": 4,
 "nbformat_minor": 5
}
