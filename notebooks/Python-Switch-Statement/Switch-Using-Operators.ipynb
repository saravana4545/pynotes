{
 "cells": [
  {
   "cell_type": "code",
   "execution_count": 1,
   "id": "a8cf93cf-9fac-4506-beef-b2b5b17f1bdd",
   "metadata": {},
   "outputs": [],
   "source": [
    "# Created at 30-01-2025"
   ]
  },
  {
   "cell_type": "code",
   "execution_count": 2,
   "id": "10d5086c-44d7-4eef-8cf6-f0f2981fa2bb",
   "metadata": {},
   "outputs": [],
   "source": [
    "# https://www.scientecheasy.com/2022/11/switch-statement-in-python.html/"
   ]
  },
  {
   "cell_type": "code",
   "execution_count": 3,
   "id": "e5bdc3c8-abbb-40b5-a6fa-43573cfa3170",
   "metadata": {},
   "outputs": [],
   "source": [
    "# Switch Statement"
   ]
  },
  {
   "cell_type": "code",
   "execution_count": 7,
   "id": "5d3c97bb-4def-4859-804f-75b46ea44187",
   "metadata": {},
   "outputs": [],
   "source": [
    "def add(a, b):\n",
    "    return a + b"
   ]
  },
  {
   "cell_type": "code",
   "execution_count": 8,
   "id": "bb129588-390c-4b85-9850-b79936e870e1",
   "metadata": {},
   "outputs": [],
   "source": [
    "def subtract(a, b):\n",
    "    return a - b"
   ]
  },
  {
   "cell_type": "code",
   "execution_count": 9,
   "id": "c811e61a-ec7c-4c46-a5fe-1008c6085755",
   "metadata": {},
   "outputs": [],
   "source": [
    "def multiply(a, b):\n",
    "    return a * b"
   ]
  },
  {
   "cell_type": "code",
   "execution_count": 10,
   "id": "69e4d063-9957-423c-bd39-aac438e47c7b",
   "metadata": {},
   "outputs": [],
   "source": [
    "def divide(a, b):\n",
    "    return a / b "
   ]
  },
  {
   "cell_type": "code",
   "execution_count": 11,
   "id": "fd75a981-2943-424d-90ab-3cf3eb38090c",
   "metadata": {},
   "outputs": [],
   "source": [
    "def default_case():\n",
    "    return \"Invalid operation\""
   ]
  },
  {
   "cell_type": "code",
   "execution_count": 12,
   "id": "0a501fad-07e3-40fb-bc01-23be28dfe667",
   "metadata": {},
   "outputs": [],
   "source": [
    "operation_dict = {\n",
    "    'add': add,\n",
    "    'subtract': subtract,\n",
    "    'multiply': multiply,\n",
    "    'divide': divide\n",
    "}"
   ]
  },
  {
   "cell_type": "code",
   "execution_count": 27,
   "id": "5f7be569-a69f-4c2a-9f75-77250c439927",
   "metadata": {},
   "outputs": [],
   "source": [
    "def perform_operation(a, b):\n",
    "    return operation_dict.get(a, b)"
   ]
  },
  {
   "cell_type": "code",
   "execution_count": 28,
   "id": "c751619a-d4f6-4dca-b3db-31d6058547cb",
   "metadata": {},
   "outputs": [
    {
     "name": "stdout",
     "output_type": "stream",
     "text": [
      "3\n",
      "3\n",
      "50\n",
      "5\n"
     ]
    }
   ],
   "source": [
    "print(perform_operation(5, 3))\n",
    "print(perform_operation(5, 3))  \n",
    "print(perform_operation(5, 50))\n",
    "print(perform_operation(10, 5)) "
   ]
  },
  {
   "cell_type": "code",
   "execution_count": null,
   "id": "335a6bb5-34e8-4d86-80ed-9747fd74c0ee",
   "metadata": {},
   "outputs": [],
   "source": []
  }
 ],
 "metadata": {
  "kernelspec": {
   "display_name": "Python 3 (ipykernel)",
   "language": "python",
   "name": "python3"
  },
  "language_info": {
   "codemirror_mode": {
    "name": "ipython",
    "version": 3
   },
   "file_extension": ".py",
   "mimetype": "text/x-python",
   "name": "python",
   "nbconvert_exporter": "python",
   "pygments_lexer": "ipython3",
   "version": "3.12.7"
  }
 },
 "nbformat": 4,
 "nbformat_minor": 5
}
