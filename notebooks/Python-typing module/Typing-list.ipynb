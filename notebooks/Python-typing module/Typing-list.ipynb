{
 "cells": [
  {
   "cell_type": "code",
   "execution_count": 1,
   "id": "426c372a-3535-4821-8d04-e931afedfa9f",
   "metadata": {},
   "outputs": [],
   "source": [
    "# Created at 19-03-2025"
   ]
  },
  {
   "cell_type": "code",
   "execution_count": 2,
   "id": "bd10305f-8757-4013-acbe-3900ad5903c0",
   "metadata": {},
   "outputs": [],
   "source": [
    "# https://stevejoe1412.gitbook.io/ssn/python-subtopics/1.-typing-module - referance"
   ]
  },
  {
   "cell_type": "code",
   "execution_count": 3,
   "id": "cd998693-a80d-4943-8779-8f5744037c30",
   "metadata": {},
   "outputs": [],
   "source": [
    "# List"
   ]
  },
  {
   "cell_type": "code",
   "execution_count": 7,
   "id": "fafdd3b6-8011-4c05-b05f-488076070577",
   "metadata": {},
   "outputs": [],
   "source": [
    "from typing import List"
   ]
  },
  {
   "cell_type": "code",
   "execution_count": 25,
   "id": "30aa7707-5ddf-43a8-ae61-cd30f5baf5c7",
   "metadata": {},
   "outputs": [],
   "source": [
    "def list_data(data: List[str]) -> str:\n",
    "    for item in data:\n",
    "        print(f\"Name: {item}\")\n",
    "    if not item:\n",
    "        print(\"Don't have more than two index\")"
   ]
  },
  {
   "cell_type": "code",
   "execution_count": 26,
   "id": "2b54f864-f9df-4739-950f-a867076fc297",
   "metadata": {},
   "outputs": [
    {
     "name": "stdout",
     "output_type": "stream",
     "text": [
      "Name: Alice\n",
      "Name: Bob\n"
     ]
    }
   ],
   "source": [
    "data = ['Alice','Bob']\n",
    "list_data(data)"
   ]
  },
  {
   "cell_type": "code",
   "execution_count": null,
   "id": "47b00165-5d2e-493b-a8d0-695a3148aadd",
   "metadata": {},
   "outputs": [],
   "source": []
  }
 ],
 "metadata": {
  "kernelspec": {
   "display_name": "Python 3 (ipykernel)",
   "language": "python",
   "name": "python3"
  },
  "language_info": {
   "codemirror_mode": {
    "name": "ipython",
    "version": 3
   },
   "file_extension": ".py",
   "mimetype": "text/x-python",
   "name": "python",
   "nbconvert_exporter": "python",
   "pygments_lexer": "ipython3",
   "version": "3.12.7"
  }
 },
 "nbformat": 4,
 "nbformat_minor": 5
}
