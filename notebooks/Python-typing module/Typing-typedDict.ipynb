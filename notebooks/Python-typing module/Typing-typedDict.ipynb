{
 "cells": [
  {
   "cell_type": "code",
   "execution_count": 1,
   "id": "f405be69-ad74-4542-8b3e-2cf67a06e6ee",
   "metadata": {},
   "outputs": [],
   "source": [
    "# Created at 19-03-2025"
   ]
  },
  {
   "cell_type": "code",
   "execution_count": 2,
   "id": "93f7aaa0-1ace-4fc8-9f55-a367e65c9c32",
   "metadata": {},
   "outputs": [],
   "source": [
    "# https://stevejoe1412.gitbook.io/ssn/python-subtopics/1.-typing-module - referance"
   ]
  },
  {
   "cell_type": "code",
   "execution_count": 3,
   "id": "d03ac889-6e26-480f-a3b9-1467f19b3f86",
   "metadata": {},
   "outputs": [],
   "source": [
    "# TypedDict method"
   ]
  },
  {
   "cell_type": "code",
   "execution_count": 15,
   "id": "5fdb1151-7a77-4e10-a49e-92b27515d8b3",
   "metadata": {},
   "outputs": [],
   "source": [
    "from typing import TypedDict"
   ]
  },
  {
   "cell_type": "code",
   "execution_count": 20,
   "id": "4a8bd44d-fee2-4aef-a9ca-64de9d6b32cb",
   "metadata": {},
   "outputs": [],
   "source": [
    "class Person(TypedDict):\n",
    "    name: str\n",
    "    age: int"
   ]
  },
  {
   "cell_type": "code",
   "execution_count": 21,
   "id": "b8c4f0a6-690e-4837-96ec-e66a38729a7c",
   "metadata": {},
   "outputs": [],
   "source": [
    "def display_person(person: Person) -> None:\n",
    "    print(f\"Name: {person['name']}, Age: {person['age']}\")"
   ]
  },
  {
   "cell_type": "code",
   "execution_count": 22,
   "id": "838c2946-3db1-46c6-b489-4517a9e451a6",
   "metadata": {},
   "outputs": [
    {
     "name": "stdout",
     "output_type": "stream",
     "text": [
      "Name: Alice, Age: 25\n"
     ]
    }
   ],
   "source": [
    "person = {'name': 'Alice', 'age': 25}\n",
    "display_person(person)"
   ]
  },
  {
   "cell_type": "code",
   "execution_count": null,
   "id": "02a6ae16-f049-4f3f-b340-e6fe552a9d2c",
   "metadata": {},
   "outputs": [],
   "source": []
  }
 ],
 "metadata": {
  "kernelspec": {
   "display_name": "Python 3 (ipykernel)",
   "language": "python",
   "name": "python3"
  },
  "language_info": {
   "codemirror_mode": {
    "name": "ipython",
    "version": 3
   },
   "file_extension": ".py",
   "mimetype": "text/x-python",
   "name": "python",
   "nbconvert_exporter": "python",
   "pygments_lexer": "ipython3",
   "version": "3.12.7"
  }
 },
 "nbformat": 4,
 "nbformat_minor": 5
}
