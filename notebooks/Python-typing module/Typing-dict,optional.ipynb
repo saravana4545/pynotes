{
 "cells": [
  {
   "cell_type": "code",
   "execution_count": 1,
   "id": "04b33a63-e955-4069-82c3-d47060db0347",
   "metadata": {},
   "outputs": [],
   "source": [
    "# Created at 19-03-2025"
   ]
  },
  {
   "cell_type": "code",
   "execution_count": 2,
   "id": "8b738f88-ff57-49f7-a1dc-9dc54dc96fb2",
   "metadata": {},
   "outputs": [],
   "source": [
    "# https://stevejoe1412.gitbook.io/ssn/python-subtopics/1.-typing-module - referance"
   ]
  },
  {
   "cell_type": "code",
   "execution_count": 3,
   "id": "fcfd67c5-8a42-4bce-8497-791f8a636559",
   "metadata": {},
   "outputs": [],
   "source": [
    "# Dict & Optional"
   ]
  },
  {
   "cell_type": "code",
   "execution_count": 4,
   "id": "d9a0285e-6ae6-4f83-be15-6af73f889d37",
   "metadata": {},
   "outputs": [],
   "source": [
    "from typing import Dict, Optional"
   ]
  },
  {
   "cell_type": "code",
   "execution_count": 15,
   "id": "a95c2cbb-1e98-49b1-babd-6f696771de5b",
   "metadata": {},
   "outputs": [],
   "source": [
    "def get_value(data: Dict[str, int], key: str) -> Optional[int]:\n",
    "    return data.get(key)"
   ]
  },
  {
   "cell_type": "code",
   "execution_count": 16,
   "id": "0206cc60-3afc-43ab-a88f-c85506a49c7c",
   "metadata": {},
   "outputs": [],
   "source": [
    "data = {'apple': 10, 'banana': 5}"
   ]
  },
  {
   "cell_type": "code",
   "execution_count": 17,
   "id": "1115786f-8333-4d29-90e3-0eb1319a73d0",
   "metadata": {},
   "outputs": [
    {
     "name": "stdout",
     "output_type": "stream",
     "text": [
      "10\n"
     ]
    }
   ],
   "source": [
    "print(get_value(data, 'apple'))"
   ]
  },
  {
   "cell_type": "code",
   "execution_count": 18,
   "id": "1f4e5122-5355-4950-9080-f7f179d283db",
   "metadata": {},
   "outputs": [
    {
     "name": "stdout",
     "output_type": "stream",
     "text": [
      "None\n"
     ]
    }
   ],
   "source": [
    "print(get_value(data, 'grapes'))"
   ]
  },
  {
   "cell_type": "code",
   "execution_count": null,
   "id": "566a645c-edac-4c9d-a3a6-d55455996197",
   "metadata": {},
   "outputs": [],
   "source": []
  }
 ],
 "metadata": {
  "kernelspec": {
   "display_name": "Python 3 (ipykernel)",
   "language": "python",
   "name": "python3"
  },
  "language_info": {
   "codemirror_mode": {
    "name": "ipython",
    "version": 3
   },
   "file_extension": ".py",
   "mimetype": "text/x-python",
   "name": "python",
   "nbconvert_exporter": "python",
   "pygments_lexer": "ipython3",
   "version": "3.12.7"
  }
 },
 "nbformat": 4,
 "nbformat_minor": 5
}
