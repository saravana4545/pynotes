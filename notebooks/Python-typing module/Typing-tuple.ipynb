{
 "cells": [
  {
   "cell_type": "code",
   "execution_count": 1,
   "id": "027c71fd-b11f-4741-a976-5eb82d32ff91",
   "metadata": {},
   "outputs": [],
   "source": [
    "# Created at 19-03-2025"
   ]
  },
  {
   "cell_type": "code",
   "execution_count": 2,
   "id": "63992455-fa9b-4730-8461-1af1239e2143",
   "metadata": {},
   "outputs": [],
   "source": [
    "#  https://stevejoe1412.gitbook.io/ssn/python-subtopics/1.-typing-module - referance"
   ]
  },
  {
   "cell_type": "code",
   "execution_count": 3,
   "id": "45552b27-b43c-4788-b1d6-585b6566361a",
   "metadata": {},
   "outputs": [],
   "source": [
    "# Tuple"
   ]
  },
  {
   "cell_type": "code",
   "execution_count": 7,
   "id": "87103980-c1fd-4038-82d4-a37c4170390d",
   "metadata": {},
   "outputs": [],
   "source": [
    "from typing import Tuple"
   ]
  },
  {
   "cell_type": "code",
   "execution_count": 8,
   "id": "f7f76473-0830-436b-8208-a83d5bad4738",
   "metadata": {},
   "outputs": [],
   "source": [
    "def tuple_data(data: Tuple[int]) -> int:\n",
    "    for item in data:\n",
    "        print(f\"Sum of two numbers: {item}\")"
   ]
  },
  {
   "cell_type": "code",
   "execution_count": 9,
   "id": "01b602e2-0e85-4894-b8e2-f9d8814b8034",
   "metadata": {},
   "outputs": [
    {
     "name": "stdout",
     "output_type": "stream",
     "text": [
      "Sum of two numbers: 45\n"
     ]
    }
   ],
   "source": [
    "data = [(40 + 5)]\n",
    "tuple_data(data)"
   ]
  },
  {
   "cell_type": "code",
   "execution_count": null,
   "id": "c71995fa-4615-4d5d-9eec-21a2345e7a91",
   "metadata": {},
   "outputs": [],
   "source": []
  }
 ],
 "metadata": {
  "kernelspec": {
   "display_name": "Python 3 (ipykernel)",
   "language": "python",
   "name": "python3"
  },
  "language_info": {
   "codemirror_mode": {
    "name": "ipython",
    "version": 3
   },
   "file_extension": ".py",
   "mimetype": "text/x-python",
   "name": "python",
   "nbconvert_exporter": "python",
   "pygments_lexer": "ipython3",
   "version": "3.12.7"
  }
 },
 "nbformat": 4,
 "nbformat_minor": 5
}
