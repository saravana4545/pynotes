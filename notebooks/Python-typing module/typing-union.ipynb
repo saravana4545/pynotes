{
 "cells": [
  {
   "cell_type": "code",
   "execution_count": 1,
   "id": "41c8b857-4f45-41eb-9e03-1be2a1de5030",
   "metadata": {},
   "outputs": [],
   "source": [
    "# Created at 19-03-2025"
   ]
  },
  {
   "cell_type": "code",
   "execution_count": null,
   "id": "c36d50a6-096e-4706-88e2-d70fecf4f4fb",
   "metadata": {},
   "outputs": [],
   "source": [
    "#https://stevejoe1412.gitbook.io/ssn/python-subtopics/1.-typing-module - referance"
   ]
  },
  {
   "cell_type": "code",
   "execution_count": 2,
   "id": "b379569b-3233-418e-abb2-d998d210c0cf",
   "metadata": {},
   "outputs": [],
   "source": [
    "# Union method"
   ]
  },
  {
   "cell_type": "code",
   "execution_count": 5,
   "id": "03c17ae8-3250-4ae8-8c69-5b853dd6ce84",
   "metadata": {},
   "outputs": [],
   "source": [
    "from typing import Union"
   ]
  },
  {
   "cell_type": "code",
   "execution_count": 6,
   "id": "9cb30502-8211-4aa1-8a0c-210e53b34b89",
   "metadata": {},
   "outputs": [],
   "source": [
    "def calculate(x: Union[int, float]) -> float:\n",
    "    return x * 2"
   ]
  },
  {
   "cell_type": "code",
   "execution_count": 7,
   "id": "ddea6b9b-4ada-437d-ba2d-0126b50d77d3",
   "metadata": {},
   "outputs": [
    {
     "name": "stdout",
     "output_type": "stream",
     "text": [
      "6\n",
      "9.0\n"
     ]
    }
   ],
   "source": [
    "print(calculate(3))\n",
    "print(calculate(4.5))"
   ]
  },
  {
   "cell_type": "code",
   "execution_count": null,
   "id": "caa18dba-8931-46e5-81b9-50b44590a479",
   "metadata": {},
   "outputs": [],
   "source": []
  }
 ],
 "metadata": {
  "kernelspec": {
   "display_name": "Python 3 (ipykernel)",
   "language": "python",
   "name": "python3"
  },
  "language_info": {
   "codemirror_mode": {
    "name": "ipython",
    "version": 3
   },
   "file_extension": ".py",
   "mimetype": "text/x-python",
   "name": "python",
   "nbconvert_exporter": "python",
   "pygments_lexer": "ipython3",
   "version": "3.12.7"
  }
 },
 "nbformat": 4,
 "nbformat_minor": 5
}
