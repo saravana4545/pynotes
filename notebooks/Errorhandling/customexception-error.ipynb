{
 "cells": [
  {
   "cell_type": "code",
   "execution_count": null,
   "id": "79939f29-6667-45b9-9d20-4d639a12c141",
   "metadata": {},
   "outputs": [],
   "source": [
    "#Custom Exception Handling in Methods"
   ]
  },
  {
   "cell_type": "code",
   "execution_count": null,
   "id": "a6fd079f-272a-4764-9e75-736c9f883906",
   "metadata": {},
   "outputs": [],
   "source": []
  },
  {
   "cell_type": "code",
   "execution_count": 1,
   "id": "db2f2a16-7d98-4ce9-ac6f-b093c0976c06",
   "metadata": {},
   "outputs": [],
   "source": [
    "class CustomError(Exception):\n",
    "    pass"
   ]
  },
  {
   "cell_type": "code",
   "execution_count": 5,
   "id": "51e47e95-9c0a-45ad-af2a-f9dc9ccd802c",
   "metadata": {},
   "outputs": [],
   "source": [
    "#Demonstrates how to define and handle custom exceptions."
   ]
  },
  {
   "cell_type": "code",
   "execution_count": null,
   "id": "a68a66cd-42d0-4feb-b801-0aac9f74ca13",
   "metadata": {},
   "outputs": [],
   "source": []
  },
  {
   "cell_type": "code",
   "execution_count": 2,
   "id": "982ee1aa-9d47-4aac-b3f9-5c9f27a300e4",
   "metadata": {},
   "outputs": [],
   "source": [
    "def validate_positive_number(number):\n",
    "    try:\n",
    "        if number < 0:\n",
    "            raise CustomError(\"Number must be positive.\")\n",
    "        return f\"Valid number: {number}\"\n",
    "    except CustomError as e:\n",
    "        return f\"Error: {e}\""
   ]
  },
  {
   "cell_type": "code",
   "execution_count": null,
   "id": "91447cc3-0f70-4659-a150-656fd93f62bf",
   "metadata": {},
   "outputs": [],
   "source": []
  },
  {
   "cell_type": "code",
   "execution_count": 3,
   "id": "796d8c6a-b081-4d7b-aa14-c0b2d9798846",
   "metadata": {},
   "outputs": [],
   "source": [
    "# Example Usage"
   ]
  },
  {
   "cell_type": "code",
   "execution_count": null,
   "id": "aed76f81-f947-428c-b034-9a88775ad48d",
   "metadata": {},
   "outputs": [],
   "source": []
  },
  {
   "cell_type": "code",
   "execution_count": 4,
   "id": "231a9b64-1c72-436a-9bf0-afad0c017cdf",
   "metadata": {},
   "outputs": [
    {
     "name": "stdout",
     "output_type": "stream",
     "text": [
      "Valid number: 10\n"
     ]
    }
   ],
   "source": [
    "print(validate_positive_number(10))  # Valid"
   ]
  },
  {
   "cell_type": "code",
   "execution_count": null,
   "id": "f9b55524-f520-453e-8c96-8da302390fa6",
   "metadata": {},
   "outputs": [],
   "source": [
    "# Raises CustomError"
   ]
  },
  {
   "cell_type": "code",
   "execution_count": null,
   "id": "412afb29-171c-4b9c-b1cb-bc43cb65300c",
   "metadata": {},
   "outputs": [],
   "source": []
  },
  {
   "cell_type": "code",
   "execution_count": null,
   "id": "9b746d42-6c5c-43d7-8af2-101747ccdcf0",
   "metadata": {},
   "outputs": [],
   "source": [
    "print(validate_positive_number(-5)) "
   ]
  }
 ],
 "metadata": {
  "kernelspec": {
   "display_name": "Python 3 (ipykernel)",
   "language": "python",
   "name": "python3"
  },
  "language_info": {
   "codemirror_mode": {
    "name": "ipython",
    "version": 3
   },
   "file_extension": ".py",
   "mimetype": "text/x-python",
   "name": "python",
   "nbconvert_exporter": "python",
   "pygments_lexer": "ipython3",
   "version": "3.12.7"
  }
 },
 "nbformat": 4,
 "nbformat_minor": 5
}
