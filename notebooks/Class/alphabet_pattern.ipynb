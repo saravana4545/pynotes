{
 "cells": [
  {
   "cell_type": "code",
   "execution_count": null,
   "id": "e300948a-0bcb-4f30-bc2a-2bf95bd2974f",
   "metadata": {},
   "outputs": [],
   "source": [
    "# Created at 27-05-2025"
   ]
  },
  {
   "cell_type": "code",
   "execution_count": 1,
   "id": "62860cc5-c6ac-4d32-9ec4-8d64fa4d72d6",
   "metadata": {},
   "outputs": [],
   "source": [
    "def alphabet_pattern():\n",
    "    rows = 5\n",
    "    for i in range(1, rows + 1):\n",
    "        print(\" \" * (rows - i) + \" \".join(chr(65 + j) for j in range(i)))"
   ]
  },
  {
   "cell_type": "code",
   "execution_count": 2,
   "id": "06e540a8-584c-4cd8-8d7d-7839afef1e55",
   "metadata": {},
   "outputs": [
    {
     "name": "stdout",
     "output_type": "stream",
     "text": [
      "    A\n",
      "   A B\n",
      "  A B C\n",
      " A B C D\n",
      "A B C D E\n"
     ]
    }
   ],
   "source": [
    "alphabet_pattern()"
   ]
  },
  {
   "cell_type": "code",
   "execution_count": null,
   "id": "2fbb2985-8676-4730-a86b-479f4ca4c93b",
   "metadata": {},
   "outputs": [],
   "source": []
  }
 ],
 "metadata": {
  "kernelspec": {
   "display_name": "Python 3 (ipykernel)",
   "language": "python",
   "name": "python3"
  },
  "language_info": {
   "codemirror_mode": {
    "name": "ipython",
    "version": 3
   },
   "file_extension": ".py",
   "mimetype": "text/x-python",
   "name": "python",
   "nbconvert_exporter": "python",
   "pygments_lexer": "ipython3",
   "version": "3.12.7"
  }
 },
 "nbformat": 4,
 "nbformat_minor": 5
}
