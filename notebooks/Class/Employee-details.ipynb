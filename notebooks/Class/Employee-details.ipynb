{
 "cells": [
  {
   "cell_type": "code",
   "execution_count": 1,
   "id": "f04dac6e-8fca-4825-bf37-f87eecb3000a",
   "metadata": {},
   "outputs": [],
   "source": [
    "# Created at 27-03-2025"
   ]
  },
  {
   "cell_type": "code",
   "execution_count": 4,
   "id": "d0bc7fa0-1c3f-483f-a831-9a246504dccb",
   "metadata": {},
   "outputs": [],
   "source": [
    "class Employee:\n",
    "    def __init__(self, emp_id, name, salary):\n",
    "        self.emp_id = emp_id\n",
    "        self.name = name\n",
    "        self.salary = salary\n",
    "\n",
    "    def display_details(self):\n",
    "        print(f\"ID: {self.emp_id}, Name: {self.name}, Salary: {self.salary}\")"
   ]
  },
  {
   "cell_type": "code",
   "execution_count": 5,
   "id": "c7f27518-428e-40b2-aebc-756a1528607d",
   "metadata": {},
   "outputs": [],
   "source": [
    "# List of employees"
   ]
  },
  {
   "cell_type": "code",
   "execution_count": 6,
   "id": "23057abe-c633-41d1-9af9-5711da567e71",
   "metadata": {},
   "outputs": [],
   "source": [
    "employees = [\n",
    "    Employee(1, \"Alice\", 50000),\n",
    "    Employee(2, \"Bob\", 60000),\n",
    "    Employee(3, \"Charlie\", 70000),\n",
    "]"
   ]
  },
  {
   "cell_type": "code",
   "execution_count": 7,
   "id": "5a8d2fac-f6a0-436d-a6d0-14830b3932a8",
   "metadata": {},
   "outputs": [],
   "source": [
    "# Display details of each employee"
   ]
  },
  {
   "cell_type": "code",
   "execution_count": 8,
   "id": "61365b31-d5a1-4b2d-9ca7-f1faf17d2ed9",
   "metadata": {},
   "outputs": [
    {
     "name": "stdout",
     "output_type": "stream",
     "text": [
      "ID: 1, Name: Alice, Salary: 50000\n",
      "ID: 2, Name: Bob, Salary: 60000\n",
      "ID: 3, Name: Charlie, Salary: 70000\n"
     ]
    }
   ],
   "source": [
    "for emp in employees:\n",
    "    emp.display_details()"
   ]
  },
  {
   "cell_type": "code",
   "execution_count": null,
   "id": "5194fb09-29f7-4051-ac93-364c08583eea",
   "metadata": {},
   "outputs": [],
   "source": []
  }
 ],
 "metadata": {
  "kernelspec": {
   "display_name": "Python 3 (ipykernel)",
   "language": "python",
   "name": "python3"
  },
  "language_info": {
   "codemirror_mode": {
    "name": "ipython",
    "version": 3
   },
   "file_extension": ".py",
   "mimetype": "text/x-python",
   "name": "python",
   "nbconvert_exporter": "python",
   "pygments_lexer": "ipython3",
   "version": "3.12.7"
  }
 },
 "nbformat": 4,
 "nbformat_minor": 5
}
