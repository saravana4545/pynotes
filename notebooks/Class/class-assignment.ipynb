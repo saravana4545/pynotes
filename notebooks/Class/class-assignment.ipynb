{
 "cells": [
  {
   "cell_type": "code",
   "execution_count": 1,
   "id": "3b08bb61-e935-4bd2-b13d-a0acf26e6178",
   "metadata": {},
   "outputs": [],
   "source": [
    "# Created at 27-03-2025"
   ]
  },
  {
   "cell_type": "code",
   "execution_count": 2,
   "id": "ea6ff153-dc20-4401-9065-73c45a46b19e",
   "metadata": {},
   "outputs": [],
   "source": [
    "class Parent1:\n",
    "    def __init__(self, a, b, c):\n",
    "        self.a = a\n",
    "        self.b = b\n",
    "        self.c = c\n",
    "\n",
    "    def add(self, a, b, c):\n",
    "        a1 = self.a + self.b\n",
    "        a2 = self.b + self.c\n",
    "        print(f\"{a} and {b} is {a1}\")\n",
    "        print(f\"{b} and {c} is {a2}\")\n",
    "        pass\n",
    "        return a1, a2\n",
    "\n",
    "    def sub(self, a, b):\n",
    "        s1 = a - b\n",
    "        s2 = self.add(a,b,c)\n",
    "        print(f\"{a} and {b} is {s1}\")\n",
    "        print(f\"a1 and a2 is {s2}\")\n",
    "        return s1, s2"
   ]
  },
  {
   "cell_type": "code",
   "execution_count": 3,
   "id": "89f72df1-225d-4b83-8860-2c01a9b7ba02",
   "metadata": {},
   "outputs": [],
   "source": [
    "class Parent2(Parent1):\n",
    "    def multi(self, s1, s2, a1, a2):\n",
    "        m1 = super().sub(s1 * s2)\n",
    "        m2 = super().add(a1 * a2)\n",
    "        print(f\"s1 and s2 is {m1}\")\n",
    "        print(f\"a1 and a2 is {m2}\")\n",
    "        pass\n",
    "        return m1, m2\n",
    "\n",
    "    def div(self, m1, m2):\n",
    "        d1 = m1 / m2\n",
    "        print(f\"m1 by m2 is {d1}\")\n",
    "        pass\n",
    "        return d1"
   ]
  },
  {
   "cell_type": "code",
   "execution_count": 6,
   "id": "13f0de94-3cfa-4b52-9ffc-eff678f51faf",
   "metadata": {},
   "outputs": [
    {
     "ename": "NameError",
     "evalue": "name 'c' is not defined",
     "output_type": "error",
     "traceback": [
      "\u001b[0;31m---------------------------------------------------------------------------\u001b[0m",
      "\u001b[0;31mNameError\u001b[0m                                 Traceback (most recent call last)",
      "Cell \u001b[0;32mIn[6], line 7\u001b[0m\n\u001b[1;32m      4\u001b[0m         \u001b[38;5;28;01mreturn\u001b[39;00m answer\n\u001b[1;32m      6\u001b[0m final_result \u001b[38;5;241m=\u001b[39m Child(a\u001b[38;5;241m=\u001b[39m\u001b[38;5;241m2\u001b[39m,b\u001b[38;5;241m=\u001b[39m\u001b[38;5;241m3\u001b[39m,c\u001b[38;5;241m=\u001b[39m\u001b[38;5;241m6\u001b[39m)\n\u001b[0;32m----> 7\u001b[0m \u001b[43mfinal_result\u001b[49m\u001b[38;5;241;43m.\u001b[39;49m\u001b[43msub\u001b[49m\u001b[43m(\u001b[49m\u001b[38;5;241;43m2\u001b[39;49m\u001b[43m,\u001b[49m\u001b[38;5;241;43m3\u001b[39;49m\u001b[43m)\u001b[49m\n\u001b[1;32m      8\u001b[0m \u001b[38;5;28mprint\u001b[39m(\u001b[38;5;124mf\u001b[39m\u001b[38;5;124m\"\u001b[39m\u001b[38;5;124mFinal Answer:\u001b[39m\u001b[38;5;132;01m{\u001b[39;00mfinal_result\u001b[38;5;132;01m}\u001b[39;00m\u001b[38;5;124m\"\u001b[39m)\n",
      "Cell \u001b[0;32mIn[2], line 17\u001b[0m, in \u001b[0;36mParent1.sub\u001b[0;34m(self, a, b)\u001b[0m\n\u001b[1;32m     15\u001b[0m \u001b[38;5;28;01mdef\u001b[39;00m \u001b[38;5;21msub\u001b[39m(\u001b[38;5;28mself\u001b[39m, a, b):\n\u001b[1;32m     16\u001b[0m     s1 \u001b[38;5;241m=\u001b[39m a \u001b[38;5;241m-\u001b[39m b\n\u001b[0;32m---> 17\u001b[0m     s2 \u001b[38;5;241m=\u001b[39m \u001b[38;5;28mself\u001b[39m\u001b[38;5;241m.\u001b[39madd(a,b,\u001b[43mc\u001b[49m)\n\u001b[1;32m     18\u001b[0m     \u001b[38;5;28mprint\u001b[39m(\u001b[38;5;124mf\u001b[39m\u001b[38;5;124m\"\u001b[39m\u001b[38;5;132;01m{\u001b[39;00ma\u001b[38;5;132;01m}\u001b[39;00m\u001b[38;5;124m and \u001b[39m\u001b[38;5;132;01m{\u001b[39;00mb\u001b[38;5;132;01m}\u001b[39;00m\u001b[38;5;124m is \u001b[39m\u001b[38;5;132;01m{\u001b[39;00ms1\u001b[38;5;132;01m}\u001b[39;00m\u001b[38;5;124m\"\u001b[39m)\n\u001b[1;32m     19\u001b[0m     \u001b[38;5;28mprint\u001b[39m(\u001b[38;5;124mf\u001b[39m\u001b[38;5;124m\"\u001b[39m\u001b[38;5;124ma1 and a2 is \u001b[39m\u001b[38;5;132;01m{\u001b[39;00ms2\u001b[38;5;132;01m}\u001b[39;00m\u001b[38;5;124m\"\u001b[39m)\n",
      "\u001b[0;31mNameError\u001b[0m: name 'c' is not defined"
     ]
    }
   ],
   "source": [
    "class Child(Parent2):\n",
    "    def calculate(self, m1, m2):\n",
    "        answer = self.div(m1, m2)\n",
    "        return answer\n",
    "\n",
    "final_result = Child(a=2,b=3,c=6)\n",
    "final_result.sub(2,3)\n",
    "print(f\"Final Answer:{final_result}\")"
   ]
  },
  {
   "cell_type": "code",
   "execution_count": 7,
   "id": "4b093040-dcee-44ec-9bfb-a7a41930c447",
   "metadata": {},
   "outputs": [],
   "source": [
    "# Example Usage\n"
   ]
  },
  {
   "cell_type": "code",
   "execution_count": null,
   "id": "c5590d72-ac64-44ea-b090-46c43355ad42",
   "metadata": {},
   "outputs": [],
   "source": []
  }
 ],
 "metadata": {
  "kernelspec": {
   "display_name": "Python 3 (ipykernel)",
   "language": "python",
   "name": "python3"
  },
  "language_info": {
   "codemirror_mode": {
    "name": "ipython",
    "version": 3
   },
   "file_extension": ".py",
   "mimetype": "text/x-python",
   "name": "python",
   "nbconvert_exporter": "python",
   "pygments_lexer": "ipython3",
   "version": "3.12.7"
  }
 },
 "nbformat": 4,
 "nbformat_minor": 5
}
