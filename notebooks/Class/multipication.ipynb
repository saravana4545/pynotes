{
 "cells": [
  {
   "cell_type": "code",
   "execution_count": 1,
   "id": "b388dd99-0fd0-4aaa-8292-495031539340",
   "metadata": {},
   "outputs": [],
   "source": [
    "# Created at 27-03-2025"
   ]
  },
  {
   "cell_type": "code",
   "execution_count": 1,
   "id": "482b030c-032f-44cb-9111-5eac90d5645d",
   "metadata": {},
   "outputs": [],
   "source": [
    "class Calculate:\n",
    "\n",
    "    def __init__(self, num1, num2, num3):\n",
    "        self.num1 = num1\n",
    "        self.num2 = num2\n",
    "        self.num3 = num3\n",
    "\n",
    "    def multyply(self,num1, num2):\n",
    "        mult = num1 * num2\n",
    "        print(f\"multy:{mult}\")\n",
    "        return mult\n",
    "    \n",
    "    def multyply_2(self, num2, num3):\n",
    "        mult_2 = num2 * num3\n",
    "        print(f\"multply second num: {mult_2}\")\n",
    "        return mult_2"
   ]
  },
  {
   "cell_type": "code",
   "execution_count": 2,
   "id": "36d5d274-a697-4687-a978-71c26480f528",
   "metadata": {},
   "outputs": [],
   "source": [
    "class Calculate_2(Calculate):\n",
    "    def __init__(self, num1, num2, num3):\n",
    "        super().__init__(num1, num2, num3)\n",
    "    \n",
    "    def add(self, num1 , num2):\n",
    "        return num1 + num2\n",
    "    \n",
    "    def add_first_values(self):\n",
    "        results  = super().multyply(self.num1, self.num2)\n",
    "        result_2 = super().multyply_2(self.num2, self.num3)\n",
    "        \n",
    "        mult = self.add(results, result_2)\n",
    "        print(f\"result :{mult}\")"
   ]
  },
  {
   "cell_type": "code",
   "execution_count": 3,
   "id": "be595cf2-e416-46c0-8511-466ceccca8c0",
   "metadata": {},
   "outputs": [],
   "source": [
    "result = Calculate_2(num1=2, num2=3,num3=5)"
   ]
  },
  {
   "cell_type": "code",
   "execution_count": 6,
   "id": "658d288b-0098-4175-a2bf-0c8293220bc2",
   "metadata": {},
   "outputs": [
    {
     "name": "stdout",
     "output_type": "stream",
     "text": [
      "multy:2\n"
     ]
    },
    {
     "data": {
      "text/plain": [
       "2"
      ]
     },
     "execution_count": 6,
     "metadata": {},
     "output_type": "execute_result"
    }
   ],
   "source": [
    "result.multyply(num1=1, num2=2)"
   ]
  },
  {
   "cell_type": "code",
   "execution_count": null,
   "id": "2c9b3030-9cec-4020-8fd2-8d348252cbd9",
   "metadata": {},
   "outputs": [],
   "source": []
  }
 ],
 "metadata": {
  "kernelspec": {
   "display_name": "Python 3 (ipykernel)",
   "language": "python",
   "name": "python3"
  },
  "language_info": {
   "codemirror_mode": {
    "name": "ipython",
    "version": 3
   },
   "file_extension": ".py",
   "mimetype": "text/x-python",
   "name": "python",
   "nbconvert_exporter": "python",
   "pygments_lexer": "ipython3",
   "version": "3.12.7"
  }
 },
 "nbformat": 4,
 "nbformat_minor": 5
}
