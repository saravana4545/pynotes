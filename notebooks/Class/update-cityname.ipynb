{
 "cells": [
  {
   "cell_type": "code",
   "execution_count": 5,
   "id": "37c37787-b0ca-49cb-b4a0-5eea643b58e5",
   "metadata": {},
   "outputs": [],
   "source": [
    "# Created at 27-03-2025"
   ]
  },
  {
   "cell_type": "code",
   "execution_count": 6,
   "id": "f7f41c1c-e1e9-4480-9bc4-b4bf1addea7e",
   "metadata": {},
   "outputs": [],
   "source": [
    "class Person:\n",
    "    def __init__(self, name, age, gender,city):\n",
    "        self.name   = name\n",
    "        self.age    = age\n",
    "        self.gender = gender\n",
    "        self.city   = city\n",
    "\n",
    "    def intro(self, city):\n",
    "        return f\"Hi my name is {self.name} and my age is {self.age} and i am from {city}\""
   ]
  },
  {
   "cell_type": "code",
   "execution_count": 7,
   "id": "24b4862f-2cfb-4a81-b5c4-92c751eb61fe",
   "metadata": {},
   "outputs": [],
   "source": [
    "class ChildPerson(Person):\n",
    "    def __init__(self, name, age, gender, city):\n",
    "        super().__init__(name, age, gender, city)\n",
    "\n",
    "    def update_city(self, city):\n",
    "        resul = super().intro(city)\n",
    "        print(f\"result is:{resul}\")\n",
    "        return resul"
   ]
  },
  {
   "cell_type": "code",
   "execution_count": 8,
   "id": "92833298-1442-4bbb-a643-dcbb0416683e",
   "metadata": {},
   "outputs": [],
   "source": [
    "result = ChildPerson(name= \"saravana\", age=20, gender=\"male\", city=\"chennai\")"
   ]
  },
  {
   "cell_type": "code",
   "execution_count": 9,
   "id": "80599521-898e-4202-941b-8a5b3942305d",
   "metadata": {},
   "outputs": [
    {
     "name": "stdout",
     "output_type": "stream",
     "text": [
      "result is:Hi my name is saravana and my age is 20 and i am from madurai\n"
     ]
    },
    {
     "data": {
      "text/plain": [
       "'Hi my name is saravana and my age is 20 and i am from madurai'"
      ]
     },
     "execution_count": 9,
     "metadata": {},
     "output_type": "execute_result"
    }
   ],
   "source": [
    "result.update_city(city=\"madurai\")"
   ]
  },
  {
   "cell_type": "code",
   "execution_count": null,
   "id": "a759ca38-28b2-44de-851e-9eec81987b78",
   "metadata": {},
   "outputs": [],
   "source": []
  }
 ],
 "metadata": {
  "kernelspec": {
   "display_name": "Python 3 (ipykernel)",
   "language": "python",
   "name": "python3"
  },
  "language_info": {
   "codemirror_mode": {
    "name": "ipython",
    "version": 3
   },
   "file_extension": ".py",
   "mimetype": "text/x-python",
   "name": "python",
   "nbconvert_exporter": "python",
   "pygments_lexer": "ipython3",
   "version": "3.12.7"
  }
 },
 "nbformat": 4,
 "nbformat_minor": 5
}
