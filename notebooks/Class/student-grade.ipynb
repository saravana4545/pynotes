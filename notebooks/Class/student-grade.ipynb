{
 "cells": [
  {
   "cell_type": "code",
   "execution_count": 1,
   "id": "c80f1c41-68bc-4a0b-98d3-9b8efe7f6d2b",
   "metadata": {},
   "outputs": [],
   "source": [
    "# Created at 27-03-2025"
   ]
  },
  {
   "cell_type": "code",
   "execution_count": 1,
   "id": "c6b22888-38eb-4f02-b10d-f02d3acf6f9c",
   "metadata": {},
   "outputs": [],
   "source": [
    "class Student:\n",
    "    def __init__(self, name, marks):\n",
    "        self.name = name\n",
    "        self.marks = marks\n",
    "\n",
    "    def grade(self):\n",
    "        if self.marks >= 90:\n",
    "            return \"A\"\n",
    "        elif self.marks >= 80:\n",
    "            return \"B\"\n",
    "        elif self.marks >= 70:\n",
    "            return \"C\"\n",
    "        elif self.marks >= 60:\n",
    "            return \"D\"\n",
    "        else:\n",
    "            return \"F\""
   ]
  },
  {
   "cell_type": "code",
   "execution_count": 2,
   "id": "296a66c4-f2c7-495f-bd2e-fffbdd99e834",
   "metadata": {},
   "outputs": [],
   "source": [
    "# Create a student object"
   ]
  },
  {
   "cell_type": "code",
   "execution_count": 3,
   "id": "3d53c359-74a0-4628-a989-b65e64ca027c",
   "metadata": {},
   "outputs": [
    {
     "name": "stdout",
     "output_type": "stream",
     "text": [
      "John scored 85 and got grade B\n"
     ]
    }
   ],
   "source": [
    "student = Student(\"John\", 85)\n",
    "print(f\"{student.name} scored {student.marks} and got grade {student.grade()}\")"
   ]
  },
  {
   "cell_type": "code",
   "execution_count": null,
   "id": "bcc46ea1-ae5a-42da-8b6c-4c0697a6a225",
   "metadata": {},
   "outputs": [],
   "source": []
  }
 ],
 "metadata": {
  "kernelspec": {
   "display_name": "Python 3 (ipykernel)",
   "language": "python",
   "name": "python3"
  },
  "language_info": {
   "codemirror_mode": {
    "name": "ipython",
    "version": 3
   },
   "file_extension": ".py",
   "mimetype": "text/x-python",
   "name": "python",
   "nbconvert_exporter": "python",
   "pygments_lexer": "ipython3",
   "version": "3.12.7"
  }
 },
 "nbformat": 4,
 "nbformat_minor": 5
}
