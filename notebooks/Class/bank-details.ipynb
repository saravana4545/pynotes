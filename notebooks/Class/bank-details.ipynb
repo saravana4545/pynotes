{
 "cells": [
  {
   "cell_type": "code",
   "execution_count": null,
   "id": "284bc6ef-a2bc-40e4-a99a-045da462b906",
   "metadata": {},
   "outputs": [],
   "source": [
    "# Created at 27-03-2025"
   ]
  },
  {
   "cell_type": "code",
   "execution_count": 1,
   "id": "78217849-638b-42f4-a0ac-9b349b98c704",
   "metadata": {},
   "outputs": [],
   "source": [
    "class BankAccount:\n",
    "    def __init__(self, account_number, balance=0):\n",
    "        self.account_number = account_number\n",
    "        self.balance = balance\n",
    "\n",
    "    def deposit(self, amount):\n",
    "        self.balance += amount\n",
    "        print(f\"Deposited {amount}. New balance: {self.balance}\")\n",
    "\n",
    "    def withdraw(self, amount):\n",
    "        if amount > self.balance:\n",
    "            print(\"Insufficient balance!\")\n",
    "        else:\n",
    "            self.balance -= amount\n",
    "            print(f\"Withdrew {amount}. New balance: {self.balance}\")"
   ]
  },
  {
   "cell_type": "code",
   "execution_count": 2,
   "id": "51882b0c-fb43-4e0e-bfdc-af4f5c74ae58",
   "metadata": {},
   "outputs": [],
   "source": [
    "# Create an account"
   ]
  },
  {
   "cell_type": "code",
   "execution_count": 3,
   "id": "cefdfa29-cc76-4544-9bfb-52a1982fa87f",
   "metadata": {},
   "outputs": [
    {
     "name": "stdout",
     "output_type": "stream",
     "text": [
      "Deposited 500. New balance: 1500\n",
      "Withdrew 300. New balance: 1200\n",
      "Insufficient balance!\n"
     ]
    }
   ],
   "source": [
    "account = BankAccount(\"1234567890\", 1000)\n",
    "account.deposit(500)\n",
    "account.withdraw(300)\n",
    "account.withdraw(1500)"
   ]
  },
  {
   "cell_type": "code",
   "execution_count": null,
   "id": "3f817b19-dcdc-4791-913b-a88881ba3703",
   "metadata": {},
   "outputs": [],
   "source": []
  }
 ],
 "metadata": {
  "kernelspec": {
   "display_name": "Python 3 (ipykernel)",
   "language": "python",
   "name": "python3"
  },
  "language_info": {
   "codemirror_mode": {
    "name": "ipython",
    "version": 3
   },
   "file_extension": ".py",
   "mimetype": "text/x-python",
   "name": "python",
   "nbconvert_exporter": "python",
   "pygments_lexer": "ipython3",
   "version": "3.12.7"
  }
 },
 "nbformat": 4,
 "nbformat_minor": 5
}
